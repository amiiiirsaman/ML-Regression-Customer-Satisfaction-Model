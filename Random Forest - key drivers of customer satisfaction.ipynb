{
 "cells": [
  {
   "cell_type": "code",
   "execution_count": null,
   "metadata": {},
   "outputs": [],
   "source": [
    "Detecting the key drivers of customer satisfaction using customer survey data"
   ]
  },
  {
   "cell_type": "code",
   "execution_count": 1,
   "metadata": {},
   "outputs": [],
   "source": [
    "import pandas as pd\n",
    "import math\n",
    "import numpy as np"
   ]
  },
  {
   "cell_type": "code",
   "execution_count": 3,
   "metadata": {},
   "outputs": [
    {
     "data": {
      "text/html": [
       "<div>\n",
       "<style scoped>\n",
       "    .dataframe tbody tr th:only-of-type {\n",
       "        vertical-align: middle;\n",
       "    }\n",
       "\n",
       "    .dataframe tbody tr th {\n",
       "        vertical-align: top;\n",
       "    }\n",
       "\n",
       "    .dataframe thead th {\n",
       "        text-align: right;\n",
       "    }\n",
       "</style>\n",
       "<table border=\"1\" class=\"dataframe\">\n",
       "  <thead>\n",
       "    <tr style=\"text-align: right;\">\n",
       "      <th></th>\n",
       "      <th>seat_comfort</th>\n",
       "      <th>seat_cleanliness</th>\n",
       "      <th>flight_attendant_courtesy</th>\n",
       "      <th>flight_attendant_attentiveness</th>\n",
       "      <th>food_quality</th>\n",
       "      <th>was_flight_delayed</th>\n",
       "      <th>delay_minutes</th>\n",
       "      <th>delay_handling</th>\n",
       "      <th>overall_customer_satisfaction</th>\n",
       "    </tr>\n",
       "  </thead>\n",
       "  <tbody>\n",
       "    <tr>\n",
       "      <th>0</th>\n",
       "      <td>3</td>\n",
       "      <td>3</td>\n",
       "      <td>3</td>\n",
       "      <td>3</td>\n",
       "      <td>3</td>\n",
       "      <td>1</td>\n",
       "      <td>12.0</td>\n",
       "      <td>4.0</td>\n",
       "      <td>6</td>\n",
       "    </tr>\n",
       "    <tr>\n",
       "      <th>1</th>\n",
       "      <td>2</td>\n",
       "      <td>5</td>\n",
       "      <td>1</td>\n",
       "      <td>4</td>\n",
       "      <td>2</td>\n",
       "      <td>1</td>\n",
       "      <td>102.0</td>\n",
       "      <td>4.0</td>\n",
       "      <td>9</td>\n",
       "    </tr>\n",
       "    <tr>\n",
       "      <th>2</th>\n",
       "      <td>1</td>\n",
       "      <td>5</td>\n",
       "      <td>1</td>\n",
       "      <td>3</td>\n",
       "      <td>5</td>\n",
       "      <td>1</td>\n",
       "      <td>117.0</td>\n",
       "      <td>4.0</td>\n",
       "      <td>8</td>\n",
       "    </tr>\n",
       "    <tr>\n",
       "      <th>3</th>\n",
       "      <td>5</td>\n",
       "      <td>5</td>\n",
       "      <td>4</td>\n",
       "      <td>5</td>\n",
       "      <td>4</td>\n",
       "      <td>1</td>\n",
       "      <td>53.0</td>\n",
       "      <td>4.0</td>\n",
       "      <td>8</td>\n",
       "    </tr>\n",
       "    <tr>\n",
       "      <th>4</th>\n",
       "      <td>3</td>\n",
       "      <td>2</td>\n",
       "      <td>3</td>\n",
       "      <td>4</td>\n",
       "      <td>3</td>\n",
       "      <td>1</td>\n",
       "      <td>20.0</td>\n",
       "      <td>5.0</td>\n",
       "      <td>6</td>\n",
       "    </tr>\n",
       "    <tr>\n",
       "      <th>...</th>\n",
       "      <td>...</td>\n",
       "      <td>...</td>\n",
       "      <td>...</td>\n",
       "      <td>...</td>\n",
       "      <td>...</td>\n",
       "      <td>...</td>\n",
       "      <td>...</td>\n",
       "      <td>...</td>\n",
       "      <td>...</td>\n",
       "    </tr>\n",
       "    <tr>\n",
       "      <th>994</th>\n",
       "      <td>2</td>\n",
       "      <td>3</td>\n",
       "      <td>1</td>\n",
       "      <td>3</td>\n",
       "      <td>3</td>\n",
       "      <td>1</td>\n",
       "      <td>111.0</td>\n",
       "      <td>3.0</td>\n",
       "      <td>5</td>\n",
       "    </tr>\n",
       "    <tr>\n",
       "      <th>995</th>\n",
       "      <td>1</td>\n",
       "      <td>2</td>\n",
       "      <td>5</td>\n",
       "      <td>3</td>\n",
       "      <td>1</td>\n",
       "      <td>1</td>\n",
       "      <td>108.0</td>\n",
       "      <td>4.0</td>\n",
       "      <td>9</td>\n",
       "    </tr>\n",
       "    <tr>\n",
       "      <th>996</th>\n",
       "      <td>5</td>\n",
       "      <td>1</td>\n",
       "      <td>3</td>\n",
       "      <td>1</td>\n",
       "      <td>5</td>\n",
       "      <td>0</td>\n",
       "      <td>NaN</td>\n",
       "      <td>NaN</td>\n",
       "      <td>8</td>\n",
       "    </tr>\n",
       "    <tr>\n",
       "      <th>997</th>\n",
       "      <td>1</td>\n",
       "      <td>4</td>\n",
       "      <td>3</td>\n",
       "      <td>5</td>\n",
       "      <td>4</td>\n",
       "      <td>1</td>\n",
       "      <td>74.0</td>\n",
       "      <td>3.0</td>\n",
       "      <td>4</td>\n",
       "    </tr>\n",
       "    <tr>\n",
       "      <th>998</th>\n",
       "      <td>5</td>\n",
       "      <td>3</td>\n",
       "      <td>4</td>\n",
       "      <td>1</td>\n",
       "      <td>5</td>\n",
       "      <td>0</td>\n",
       "      <td>NaN</td>\n",
       "      <td>NaN</td>\n",
       "      <td>8</td>\n",
       "    </tr>\n",
       "  </tbody>\n",
       "</table>\n",
       "<p>999 rows × 9 columns</p>\n",
       "</div>"
      ],
      "text/plain": [
       "     seat_comfort  seat_cleanliness  flight_attendant_courtesy  \\\n",
       "0               3                 3                          3   \n",
       "1               2                 5                          1   \n",
       "2               1                 5                          1   \n",
       "3               5                 5                          4   \n",
       "4               3                 2                          3   \n",
       "..            ...               ...                        ...   \n",
       "994             2                 3                          1   \n",
       "995             1                 2                          5   \n",
       "996             5                 1                          3   \n",
       "997             1                 4                          3   \n",
       "998             5                 3                          4   \n",
       "\n",
       "     flight_attendant_attentiveness  food_quality  was_flight_delayed  \\\n",
       "0                                 3             3                   1   \n",
       "1                                 4             2                   1   \n",
       "2                                 3             5                   1   \n",
       "3                                 5             4                   1   \n",
       "4                                 4             3                   1   \n",
       "..                              ...           ...                 ...   \n",
       "994                               3             3                   1   \n",
       "995                               3             1                   1   \n",
       "996                               1             5                   0   \n",
       "997                               5             4                   1   \n",
       "998                               1             5                   0   \n",
       "\n",
       "     delay_minutes  delay_handling  overall_customer_satisfaction  \n",
       "0             12.0             4.0                              6  \n",
       "1            102.0             4.0                              9  \n",
       "2            117.0             4.0                              8  \n",
       "3             53.0             4.0                              8  \n",
       "4             20.0             5.0                              6  \n",
       "..             ...             ...                            ...  \n",
       "994          111.0             3.0                              5  \n",
       "995          108.0             4.0                              9  \n",
       "996            NaN             NaN                              8  \n",
       "997           74.0             3.0                              4  \n",
       "998            NaN             NaN                              8  \n",
       "\n",
       "[999 rows x 9 columns]"
      ]
     },
     "execution_count": 3,
     "metadata": {},
     "output_type": "execute_result"
    }
   ],
   "source": [
    "data = pd.read_csv(\"survey_data.csv\")\n",
    "original_data = data\n",
    "# Convert a single column from text categories to numbers\n",
    "col = pd.Categorical(data[\"was_flight_delayed\"])\n",
    "data[\"was_flight_delayed\"] = col.codes\n",
    "original_data"
   ]
  },
  {
   "cell_type": "code",
   "execution_count": 4,
   "metadata": {},
   "outputs": [
    {
     "name": "stdout",
     "output_type": "stream",
     "text": [
      "999\n",
      "999\n"
     ]
    }
   ],
   "source": [
    "# preprocessing, delete data with missing y\n",
    "print(len(data))\n",
    "data.dropna(subset=['overall_customer_satisfaction'], inplace=True)\n",
    "print(len(data))"
   ]
  },
  {
   "cell_type": "code",
   "execution_count": 5,
   "metadata": {},
   "outputs": [],
   "source": [
    "# fill the missing values\n",
    "columns = list(data.columns)[:-1]\n",
    "for column in columns:\n",
    "    column_mean = data[column].mean()\n",
    "    data[column].fillna(column_mean, inplace=True)"
   ]
  },
  {
   "cell_type": "code",
   "execution_count": 6,
   "metadata": {},
   "outputs": [],
   "source": [
    "# Min max normalization\n",
    "data =(data - data.min())/(data.max() - data.min())"
   ]
  },
  {
   "cell_type": "code",
   "execution_count": 11,
   "metadata": {},
   "outputs": [],
   "source": [
    "def calc_entropy(column):\n",
    "    \"\"\"\n",
    "    Calculate entropy given a pandas series, list, or numpy array.\n",
    "    \"\"\"\n",
    "    # Compute the counts of each unique value in the column\n",
    "    counts = np.bincount(column)\n",
    "    # Divide by the total column length to get a probability\n",
    "    probabilities = counts / len(column)\n",
    "\n",
    "    # Initialize the entropy to 0\n",
    "    entropy = 0\n",
    "    # Loop through the probabilities, and add each one to the total entropy\n",
    "    for prob in probabilities:\n",
    "        if prob > 0:\n",
    "            entropy += prob * math.log(prob, 2)\n",
    "\n",
    "    return -entropy"
   ]
  },
  {
   "cell_type": "code",
   "execution_count": 13,
   "metadata": {},
   "outputs": [],
   "source": [
    "def calc_information_gain(data, split_name, target_name):\n",
    "    \"\"\"\n",
    "    Calculate information gain given a data set, column to split on, and target\n",
    "    \"\"\"\n",
    "    # Calculate the original entropy\n",
    "    original_entropy = calc_entropy(data[target_name])\n",
    "\n",
    "    # Find the median of the column we're splitting\n",
    "    column = data[split_name]\n",
    "    median = column.median()\n",
    "\n",
    "    # Make two subsets of the data, based on the median\n",
    "    left_split = data[column <= median]\n",
    "    right_split = data[column > median]\n",
    "\n",
    "    # Loop through the splits and calculate the subset entropies\n",
    "    to_subtract = 0\n",
    "    for subset in [left_split, right_split]:\n",
    "        prob = (subset.shape[0] / data.shape[0])\n",
    "        to_subtract += prob * calc_entropy(subset[target_name])\n",
    "\n",
    "    # Return information gain\n",
    "    return original_entropy - to_subtract"
   ]
  },
  {
   "cell_type": "code",
   "execution_count": 14,
   "metadata": {},
   "outputs": [],
   "source": [
    "information_gains = []\n",
    "# Loop through and compute information gains\n",
    "for col in columns:\n",
    "    information_gain = calc_information_gain(data, col, \"overall_customer_satisfaction\")\n",
    "    information_gains.append(information_gain)"
   ]
  },
  {
   "cell_type": "code",
   "execution_count": 15,
   "metadata": {},
   "outputs": [
    {
     "name": "stdout",
     "output_type": "stream",
     "text": [
      "Most impactful feature: delay_handling\n"
     ]
    }
   ],
   "source": [
    "# Find the name of the column with the highest gain\n",
    "highest_gain_index = information_gains.index(max(information_gains))\n",
    "highest_gain = columns[highest_gain_index]\n",
    "\n",
    "print('Most impactful feature:', highest_gain)\n"
   ]
  },
  {
   "cell_type": "code",
   "execution_count": 16,
   "metadata": {},
   "outputs": [],
   "source": [
    "from sklearn.ensemble import RandomForestRegressor\n",
    "\n",
    "clf = RandomForestRegressor(random_state=42, min_samples_split=10)\n",
    "clf.fit(data[columns], data[\"overall_customer_satisfaction\"])\n",
    "\n",
    "predictions = clf.predict(data[columns])\n",
    "\n",
    "importance = clf.feature_importances_"
   ]
  },
  {
   "cell_type": "code",
   "execution_count": 18,
   "metadata": {},
   "outputs": [
    {
     "name": "stdout",
     "output_type": "stream",
     "text": [
      "seat_comfort 0.1609736564747845 2.994994994994995\n",
      "seat_cleanliness 0.005572221724670385 3.046046046046046\n",
      "flight_attendant_courtesy 0.15341867350413207 3.039039039039039\n",
      "flight_attendant_attentiveness 0.0059275038573389175 2.995995995995996\n",
      "food_quality 0.0534198581988343 3.091091091091091\n",
      "was_flight_delayed 0.0007321826799208728 0.6956956956956957\n",
      "delay_minutes 0.1941093266074462 61.35251798561202\n",
      "delay_handling 0.4258465769528727 3.5582733812949536\n"
     ]
    },
    {
     "data": {
      "image/png": "[encoded data removed]",
      "text/plain": [
       "<Figure size 432x288 with 1 Axes>"
      ]
     },
     "metadata": {
      "needs_background": "light"
     },
     "output_type": "display_data"
    }
   ],
   "source": [
    "for i in range(len(columns)):\n",
    "    print(columns[i], importance[i], original_data[columns[i]].mean())\n",
    "\n",
    "importance_df = pd.DataFrame(data=columns, columns=['feature'])\n",
    "importance_df['importance'] = importance\n",
    "\n",
    "# we can calculate room for improvement by measuring the distance from mean to max\n",
    "# we want to minimize was_flight_delayed and delay_minutes, so room for improvement should be calculated to min\n",
    "improvement = []\n",
    "for i in range(len(importance_df)):\n",
    "    dummy = (original_data[importance_df.iloc[i]['feature']].max() - original_data[importance_df.iloc[i]['feature']].mean()) / original_data[importance_df.iloc[i]['feature']].max()\n",
    "    if importance_df.iloc[i]['feature'] in ['was_flight_delayed', 'delay_minutes']:\n",
    "        improvement.append(1-dummy)\n",
    "    else:\n",
    "        improvement.append(dummy)\n",
    "\n",
    "importance_df['room for improvement'] = improvement\n",
    "\n",
    "# print(original_data[columns].max())\n",
    "importance_df.sort_values(by=['importance'], inplace=True)\n",
    "import matplotlib.pyplot as plt\n",
    "fig = plt.figure()\n",
    "y_range = np.arange(len(columns))\n",
    "plt.barh(y_range + 0.2, importance_df['importance'], 0.4, label='Feature Importance')\n",
    "plt.barh(y_range - 0.2, importance_df['room for improvement'], 0.4, label='Possible Improvement (%)')\n",
    "plt.yticks(y_range, importance_df['feature'])\n",
    "plt.xlim([0,0.7])\n",
    "plt.legend(loc='lower right', fontsize=8.5)\n",
    "plt.tight_layout()\n",
    "plt.show()"
   ]
  },
  {
   "cell_type": "markdown",
   "metadata": {},
   "source": [
    "It is  shown that delay handling, delay minutes, seat\n",
    "comfort, and flight attendance courtesy are more important, then food quality.  "
   ]
  },
  {
   "cell_type": "code",
   "execution_count": null,
   "metadata": {},
   "outputs": [],
   "source": []
  }
 ],
 "metadata": {
  "kernelspec": {
   "display_name": "Python 3",
   "language": "python",
   "name": "python3"
  },
  "language_info": {
   "codemirror_mode": {
    "name": "ipython",
    "version": 3
   },
   "file_extension": ".py",
   "mimetype": "text/x-python",
   "name": "python",
   "nbconvert_exporter": "python",
   "pygments_lexer": "ipython3",
   "version": "3.8.3"
  }
 },
 "nbformat": 4,
 "nbformat_minor": 4
}
